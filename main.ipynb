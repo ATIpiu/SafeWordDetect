{
 "cells": [
  {
   "metadata": {},
   "cell_type": "markdown",
   "source": "本次未使用混淆数据测试，例如筋膜枪这种易混淆数据，尝试经典测试效果\n",
   "id": "52d23fcb7d86f23f"
  },
  {
   "metadata": {},
   "cell_type": "markdown",
   "source": [
    "处理初始数据集，初始安全数据集为THUC的词库数据集，这里由于时间限制，选择这个简单实现。其他的思路有，选取现在有的词向量数据集，\n",
    "例如该连接提及的https://github.com/Embedding/Chinese-Word-Vectors/blob/master/README_zh.md\n",
    "只需要取他们的词表就行。\n",
    "汇总处理代码\n",
    "\n",
    "```\n",
    "import os\n",
    "\n",
    "# 汇总文件的名称\n",
    "output_file = \"汇总结果.txt\"\n",
    "\n",
    "# 打开汇总文件以写入模式\n",
    "with open(output_file, \"w\", encoding=\"utf-8\") as outfile:\n",
    "    # 遍历当前目录下的所有文件\n",
    "    for file_name in os.listdir(\".\"):\n",
    "        # 检查文件是否以 .txt 结尾且不是汇总文件本身\n",
    "        if file_name.endswith(\".txt\") and file_name != output_file:\n",
    "            with open(file_name, \"r\", encoding=\"utf-8\") as infile:\n",
    "                for line in infile:\n",
    "                    # 提取行中的第一个字段（以制表符为分隔）\n",
    "                    first_field = line.split(\"\\t\")[0]\n",
    "                    outfile.write(first_field + \"\\n\")\n",
    "\n",
    "print(f\"汇总完成，结果已保存到 {output_file}\")\n",
    "\n",
    "```\n",
    "\n",
    "\n",
    "\n",
    "敏感词数据集为 腾讯的严格敏感词数据集 https://github.com/cjh0613/tencent-sensitive-words\n",
    "\n",
    "此外，进行的操作还有将安全词库和危险词库中重叠部分处理，处理方法为，将安全词库和危险词库重叠的部分从安全词库中去除\n",
    "\n",
    "```\n",
    "import os\n",
    "\n",
    "# 定义文件夹路径\n",
    "safe_folder = \"safe\"\n",
    "unsafe_folder = \"unsafe\"\n",
    "output_file = \"filtered_safe.txt\"\n",
    "\n",
    "# 用于存储 safe 和 unsafe 文件夹中的词语\n",
    "safe_words = set()\n",
    "unsafe_words = set()\n",
    "\n",
    "# 读取 safe 文件夹中的词语\n",
    "for file_name in os.listdir(safe_folder):\n",
    "    if file_name.endswith(\".txt\"):\n",
    "        with open(os.path.join(safe_folder, file_name), \"r\", encoding=\"utf-8\") as infile:\n",
    "            for line in infile:\n",
    "                # 将词语加入 safe 集合\n",
    "                safe_words.add(line.strip())\n",
    "\n",
    "# 读取 unsafe 文件夹中的词语\n",
    "for file_name in os.listdir(unsafe_folder):\n",
    "    if file_name.endswith(\".txt\"):\n",
    "        with open(os.path.join(unsafe_folder, file_name), \"r\", encoding=\"utf-8\") as infile:\n",
    "            for line in infile:\n",
    "                # 将词语加入 unsafe 集合\n",
    "                unsafe_words.add(line.strip())\n",
    "\n",
    "# 从 safe 集合中移除 unsafe 集合的词语\n",
    "filtered_safe_words = safe_words - unsafe_words\n",
    "\n",
    "# 将结果写入输出文件\n",
    "with open(output_file, \"w\", encoding=\"utf-8\") as outfile:\n",
    "    for word in sorted(filtered_safe_words):  # 按字母顺序排序\n",
    "        outfile.write(word + \"\\n\")\n",
    "\n",
    "print(f\"处理完成，过滤后的词语已保存到 {output_file}\")\n",
    "```\n"
   ],
   "id": "a675786f86bda8f8"
  },
  {
   "cell_type": "code",
   "id": "9ccfa4d8c23ebd6e",
   "metadata": {
    "ExecuteTime": {
     "end_time": "2024-11-23T02:02:43.154547Z",
     "start_time": "2024-11-23T02:02:42.882350Z"
    }
   },
   "source": [
    "# 导入必要的库\n",
    "import os\n",
    "import torch\n",
    "from transformers import AutoTokenizer, AutoModelForSequenceClassification, Trainer, TrainingArguments\n",
    "from datasets import load_dataset, DatasetDict, Dataset\n",
    "from sklearn.metrics import accuracy_score, precision_recall_fscore_support\n",
    "\n",
    "# 设置路径\n",
    "data_dir = \"./data\"\n",
    "safe_dir = os.path.join(data_dir, \"safe\")\n",
    "unsafe_dir = os.path.join(data_dir, \"unsafe\")\n",
    "\n",
    "# 数据预处理函数\n",
    "# 数据预处理函数\n",
    "def load_texts_from_directory(directory, label):\n",
    "    texts = []\n",
    "    for file_name in os.listdir(directory):\n",
    "        file_path = os.path.join(directory, file_name)\n",
    "        if os.path.isfile(file_path) and file_name.endswith(\".txt\"):\n",
    "            with open(file_path, \"r\", encoding=\"utf-8\") as file:\n",
    "                # 按回车符分割文本，并过滤掉空行\n",
    "                lines = file.read().splitlines()\n",
    "                lines = [line.strip() for line in lines if line.strip()]  # 去除空行\n",
    "                # 为每行文本添加对应的标签\n",
    "                texts.extend({\"text\": line, \"label\": label} for line in lines)\n",
    "    return texts\n",
    "\n",
    "# 加载数据\n",
    "safe_texts = load_texts_from_directory(safe_dir, 0)  # safe -> label 0\n",
    "unsafe_texts = load_texts_from_directory(unsafe_dir, 1)  # unsafe -> label 1\n",
    "\n",
    "# 构建数据集\n",
    "all_texts = safe_texts + unsafe_texts\n",
    "dataset = Dataset.from_list(all_texts)\n",
    "\n",
    "# 划分训练集和测试集\n",
    "dataset = dataset.train_test_split(test_size=0.2, seed=42)\n",
    "dataset = DatasetDict({\"train\": dataset[\"train\"], \"test\": dataset[\"test\"]})\n"
   ],
   "outputs": [],
   "execution_count": 8
  },
  {
   "metadata": {
    "ExecuteTime": {
     "end_time": "2024-11-23T02:02:58.419442Z",
     "start_time": "2024-11-23T02:02:58.410689Z"
    }
   },
   "cell_type": "code",
   "source": "dataset[\"train\"]",
   "id": "d1c4dec87ec78444",
   "outputs": [
    {
     "data": {
      "text/plain": [
       "Dataset({\n",
       "    features: ['text', 'label'],\n",
       "    num_rows: 159090\n",
       "})"
      ]
     },
     "execution_count": 10,
     "metadata": {},
     "output_type": "execute_result"
    }
   ],
   "execution_count": 10
  },
  {
   "metadata": {},
   "cell_type": "markdown",
   "source": "设置huggingface环境变量，服务器无法直接访问",
   "id": "b82c0a5bce23306c"
  },
  {
   "metadata": {},
   "cell_type": "code",
   "source": [
    "import os\n",
    "\n",
    "# 设置 HF_HOME 环境变量\n",
    "# os.environ[\"HF_ENDPOINT\"] = \"https://hf-mirror.com/\"\n",
    "\n",
    "# 打印结果以验证\n",
    "print(f\"The HF_HOME environment variable is now set to: {os.getenv('HF_ENDPOINT')}\")\n"
   ],
   "id": "40a5254263d1f963",
   "outputs": [],
   "execution_count": null
  },
  {
   "metadata": {},
   "cell_type": "markdown",
   "source": "分词时候由于只是词汇级别的分类 所以将max_length设置成为64以提高训练速度",
   "id": "3d889705efb2d84b"
  },
  {
   "metadata": {
    "ExecuteTime": {
     "end_time": "2024-11-23T02:07:47.056667Z",
     "start_time": "2024-11-23T02:07:33.542932Z"
    }
   },
   "cell_type": "code",
   "source": [
    "# 加载RoBERTa分词器\n",
    "model_name = \"hfl/chinese-roberta-wwm-ext\"\n",
    "tokenizer = AutoTokenizer.from_pretrained(model_name)\n",
    "\n",
    "# 定义分词函数\n",
    "def tokenize_function(example):\n",
    "    return tokenizer(example[\"text\"], padding=\"max_length\", truncation=True, max_length=64)\n",
    "\n",
    "# 对数据集进行分词\n",
    "tokenized_datasets = dataset.map(tokenize_function, batched=True)\n",
    "tokenized_datasets = tokenized_datasets.remove_columns([\"text\"])\n",
    "tokenized_datasets = tokenized_datasets.rename_column(\"label\", \"labels\")\n",
    "tokenized_datasets.set_format(\"torch\")\n",
    "\n",
    "# 加载模型\n",
    "model = AutoModelForSequenceClassification.from_pretrained(model_name, num_labels=2)"
   ],
   "id": "47f54ff60ce69b1b",
   "outputs": [
    {
     "data": {
      "text/plain": [
       "Map:   0%|          | 0/159090 [00:00<?, ? examples/s]"
      ],
      "application/vnd.jupyter.widget-view+json": {
       "version_major": 2,
       "version_minor": 0,
       "model_id": "6d7c17dab26e4de990886d6a6a355a61"
      }
     },
     "metadata": {},
     "output_type": "display_data"
    },
    {
     "data": {
      "text/plain": [
       "Map:   0%|          | 0/39773 [00:00<?, ? examples/s]"
      ],
      "application/vnd.jupyter.widget-view+json": {
       "version_major": 2,
       "version_minor": 0,
       "model_id": "710515609c7446aab0ae1c3d52e3da02"
      }
     },
     "metadata": {},
     "output_type": "display_data"
    },
    {
     "name": "stderr",
     "output_type": "stream",
     "text": [
      "Some weights of BertForSequenceClassification were not initialized from the model checkpoint at hfl/chinese-roberta-wwm-ext and are newly initialized: ['classifier.bias', 'classifier.weight']\n",
      "You should probably TRAIN this model on a down-stream task to be able to use it for predictions and inference.\n"
     ]
    }
   ],
   "execution_count": 15
  },
  {
   "metadata": {
    "collapsed": true,
    "ExecuteTime": {
     "end_time": "2024-11-23T02:24:32.111213Z",
     "start_time": "2024-11-23T02:07:48.832486Z"
    }
   },
   "cell_type": "code",
   "source": [
    "# 检查是否有可用 GPU\n",
    "device = torch.device(\"cuda:0\" if torch.cuda.is_available() else \"cpu\")\n",
    "print(f\"Using device: {device}\")\n",
    "\n",
    "# 确保模型加载到 GPU 上\n",
    "model = AutoModelForSequenceClassification.from_pretrained(model_name, num_labels=2).to(device)\n",
    "\n",
    "# 定义评估指标\n",
    "def compute_metrics(eval_pred):\n",
    "    logits, labels = eval_pred\n",
    "    predictions = torch.argmax(torch.tensor(logits), dim=1)\n",
    "    precision, recall, f1, _ = precision_recall_fscore_support(labels, predictions, average=\"binary\")\n",
    "    acc = accuracy_score(labels, predictions)\n",
    "    return {\"accuracy\": acc, \"f1\": f1, \"precision\": precision, \"recall\": recall}\n",
    "\n",
    "# 定义训练参数（调整批量大小以适应显存）\n",
    "training_args = TrainingArguments(\n",
    "    output_dir=\"./results\",\n",
    "    evaluation_strategy=\"epoch\",\n",
    "    save_strategy=\"epoch\",\n",
    "    logging_dir=\"./logs\",\n",
    "    logging_steps=10,\n",
    "    per_device_train_batch_size=256,  # 根据 GPU 显存调整批量大小\n",
    "    per_device_eval_batch_size=16,\n",
    "    num_train_epochs=3,\n",
    "    weight_decay=0.01,\n",
    "    load_best_model_at_end=True,\n",
    "    metric_for_best_model=\"accuracy\",\n",
    "    fp16=True,  # 开启混合精度训练（节省显存，提高性能）\n",
    ")\n",
    "\n",
    "# 使用 Trainer 进行训练\n",
    "trainer = Trainer(\n",
    "    model=model,\n",
    "    args=training_args,\n",
    "    train_dataset=tokenized_datasets[\"train\"],\n",
    "    eval_dataset=tokenized_datasets[\"test\"],\n",
    "    tokenizer=tokenizer,\n",
    "    compute_metrics=compute_metrics,\n",
    ")\n",
    "\n",
    "# 开始训练\n",
    "trainer.train()\n",
    "\n",
    "# 评估模型\n",
    "eval_results = trainer.evaluate()\n",
    "print(\"Evaluation Results:\", eval_results)\n",
    "\n",
    "# 保存模型\n",
    "model.save_pretrained(\"./saved_model\")\n",
    "tokenizer.save_pretrained(\"./saved_model\")"
   ],
   "id": "initial_id",
   "outputs": [
    {
     "name": "stdout",
     "output_type": "stream",
     "text": [
      "Using device: cuda:0\n"
     ]
    },
    {
     "name": "stderr",
     "output_type": "stream",
     "text": [
      "Some weights of BertForSequenceClassification were not initialized from the model checkpoint at hfl/chinese-roberta-wwm-ext and are newly initialized: ['classifier.bias', 'classifier.weight']\n",
      "You should probably TRAIN this model on a down-stream task to be able to use it for predictions and inference.\n",
      "/home/nbic/xiongrun/.conda/envs/llm/lib/python3.10/site-packages/transformers/training_args.py:1568: FutureWarning: `evaluation_strategy` is deprecated and will be removed in version 4.46 of 🤗 Transformers. Use `eval_strategy` instead\n",
      "  warnings.warn(\n",
      "/tmp/ipykernel_927409/1262431808.py:33: FutureWarning: `tokenizer` is deprecated and will be removed in version 5.0.0 for `Trainer.__init__`. Use `processing_class` instead.\n",
      "  trainer = Trainer(\n",
      "Detected kernel version 5.4.0, which is below the recommended minimum of 5.5.0; this can cause the process to hang. It is recommended to upgrade the kernel to the minimum version or higher.\n",
      "/home/nbic/xiongrun/.conda/envs/llm/lib/python3.10/site-packages/torch/nn/parallel/parallel_apply.py:79: FutureWarning: `torch.cuda.amp.autocast(args...)` is deprecated. Please use `torch.amp.autocast('cuda', args...)` instead.\n",
      "  with torch.cuda.device(device), torch.cuda.stream(stream), autocast(enabled=autocast_enabled):\n",
      "/home/nbic/xiongrun/.conda/envs/llm/lib/python3.10/site-packages/torch/nn/parallel/_functions.py:68: UserWarning: Was asked to gather along dimension 0, but all input tensors were scalars; will instead unsqueeze and return a vector.\n",
      "  warnings.warn('Was asked to gather along dimension 0, but all '\n"
     ]
    },
    {
     "data": {
      "text/plain": [
       "<IPython.core.display.HTML object>"
      ],
      "text/html": [
       "\n",
       "    <div>\n",
       "      \n",
       "      <progress value='933' max='933' style='width:300px; height:20px; vertical-align: middle;'></progress>\n",
       "      [933/933 15:11, Epoch 3/3]\n",
       "    </div>\n",
       "    <table border=\"1\" class=\"dataframe\">\n",
       "  <thead>\n",
       " <tr style=\"text-align: left;\">\n",
       "      <th>Epoch</th>\n",
       "      <th>Training Loss</th>\n",
       "      <th>Validation Loss</th>\n",
       "      <th>Accuracy</th>\n",
       "      <th>F1</th>\n",
       "      <th>Precision</th>\n",
       "      <th>Recall</th>\n",
       "    </tr>\n",
       "  </thead>\n",
       "  <tbody>\n",
       "    <tr>\n",
       "      <td>1</td>\n",
       "      <td>0.102000</td>\n",
       "      <td>0.091224</td>\n",
       "      <td>0.968019</td>\n",
       "      <td>0.923530</td>\n",
       "      <td>0.949679</td>\n",
       "      <td>0.898783</td>\n",
       "    </tr>\n",
       "    <tr>\n",
       "      <td>2</td>\n",
       "      <td>0.070600</td>\n",
       "      <td>0.092971</td>\n",
       "      <td>0.970407</td>\n",
       "      <td>0.927928</td>\n",
       "      <td>0.973282</td>\n",
       "      <td>0.886614</td>\n",
       "    </tr>\n",
       "    <tr>\n",
       "      <td>3</td>\n",
       "      <td>0.050100</td>\n",
       "      <td>0.097566</td>\n",
       "      <td>0.970885</td>\n",
       "      <td>0.930725</td>\n",
       "      <td>0.952142</td>\n",
       "      <td>0.910250</td>\n",
       "    </tr>\n",
       "  </tbody>\n",
       "</table><p>"
      ]
     },
     "metadata": {},
     "output_type": "display_data"
    },
    {
     "name": "stderr",
     "output_type": "stream",
     "text": [
      "/home/nbic/xiongrun/.conda/envs/llm/lib/python3.10/site-packages/torch/nn/parallel/parallel_apply.py:79: FutureWarning: `torch.cuda.amp.autocast(args...)` is deprecated. Please use `torch.amp.autocast('cuda', args...)` instead.\n",
      "  with torch.cuda.device(device), torch.cuda.stream(stream), autocast(enabled=autocast_enabled):\n",
      "/home/nbic/xiongrun/.conda/envs/llm/lib/python3.10/site-packages/torch/nn/parallel/_functions.py:68: UserWarning: Was asked to gather along dimension 0, but all input tensors were scalars; will instead unsqueeze and return a vector.\n",
      "  warnings.warn('Was asked to gather along dimension 0, but all '\n",
      "/home/nbic/xiongrun/.conda/envs/llm/lib/python3.10/site-packages/torch/nn/parallel/parallel_apply.py:79: FutureWarning: `torch.cuda.amp.autocast(args...)` is deprecated. Please use `torch.amp.autocast('cuda', args...)` instead.\n",
      "  with torch.cuda.device(device), torch.cuda.stream(stream), autocast(enabled=autocast_enabled):\n",
      "/home/nbic/xiongrun/.conda/envs/llm/lib/python3.10/site-packages/torch/nn/parallel/_functions.py:68: UserWarning: Was asked to gather along dimension 0, but all input tensors were scalars; will instead unsqueeze and return a vector.\n",
      "  warnings.warn('Was asked to gather along dimension 0, but all '\n",
      "/home/nbic/xiongrun/.conda/envs/llm/lib/python3.10/site-packages/torch/nn/parallel/parallel_apply.py:79: FutureWarning: `torch.cuda.amp.autocast(args...)` is deprecated. Please use `torch.amp.autocast('cuda', args...)` instead.\n",
      "  with torch.cuda.device(device), torch.cuda.stream(stream), autocast(enabled=autocast_enabled):\n",
      "/home/nbic/xiongrun/.conda/envs/llm/lib/python3.10/site-packages/torch/nn/parallel/_functions.py:68: UserWarning: Was asked to gather along dimension 0, but all input tensors were scalars; will instead unsqueeze and return a vector.\n",
      "  warnings.warn('Was asked to gather along dimension 0, but all '\n",
      "/home/nbic/xiongrun/.conda/envs/llm/lib/python3.10/site-packages/torch/nn/parallel/parallel_apply.py:79: FutureWarning: `torch.cuda.amp.autocast(args...)` is deprecated. Please use `torch.amp.autocast('cuda', args...)` instead.\n",
      "  with torch.cuda.device(device), torch.cuda.stream(stream), autocast(enabled=autocast_enabled):\n",
      "/home/nbic/xiongrun/.conda/envs/llm/lib/python3.10/site-packages/torch/nn/parallel/_functions.py:68: UserWarning: Was asked to gather along dimension 0, but all input tensors were scalars; will instead unsqueeze and return a vector.\n",
      "  warnings.warn('Was asked to gather along dimension 0, but all '\n"
     ]
    },
    {
     "data": {
      "text/plain": [
       "<IPython.core.display.HTML object>"
      ],
      "text/html": [
       "\n",
       "    <div>\n",
       "      \n",
       "      <progress value='1243' max='1243' style='width:300px; height:20px; vertical-align: middle;'></progress>\n",
       "      [1243/1243 01:27]\n",
       "    </div>\n",
       "    "
      ]
     },
     "metadata": {},
     "output_type": "display_data"
    },
    {
     "name": "stdout",
     "output_type": "stream",
     "text": [
      "Evaluation Results: {'eval_loss': 0.09756579250097275, 'eval_accuracy': 0.9708847710758555, 'eval_f1': 0.9307250538406318, 'eval_precision': 0.9521419828641371, 'eval_recall': 0.9102504095483267, 'eval_runtime': 88.0386, 'eval_samples_per_second': 451.768, 'eval_steps_per_second': 14.119, 'epoch': 3.0}\n"
     ]
    },
    {
     "data": {
      "text/plain": [
       "('./saved_model/tokenizer_config.json',\n",
       " './saved_model/special_tokens_map.json',\n",
       " './saved_model/vocab.txt',\n",
       " './saved_model/added_tokens.json',\n",
       " './saved_model/tokenizer.json')"
      ]
     },
     "execution_count": 16,
     "metadata": {},
     "output_type": "execute_result"
    }
   ],
   "execution_count": 16
  },
  {
   "metadata": {
    "ExecuteTime": {
     "end_time": "2024-11-23T02:30:28.943803Z",
     "start_time": "2024-11-23T02:30:28.659099Z"
    }
   },
   "cell_type": "code",
   "source": [
    "import torch\n",
    "from transformers import AutoTokenizer, AutoModelForSequenceClassification\n",
    "\n",
    "# 加载保存的模型和分词器\n",
    "model_path = \"./saved_model\"  # 确保这个路径与训练时保存的一致\n",
    "tokenizer = AutoTokenizer.from_pretrained(model_path)\n",
    "model = AutoModelForSequenceClassification.from_pretrained(model_path)\n",
    "\n",
    "# 检查是否有可用的 GPU\n",
    "device = torch.device(\"cuda\" if torch.cuda.is_available() else \"cpu\")\n",
    "print(f\"Using device: {device}\")\n",
    "model.to(device)\n",
    "\n",
    "# 定义测试函数\n",
    "def predict(text):\n",
    "    # 对输入文本进行分词和编码\n",
    "    inputs = tokenizer(text, return_tensors=\"pt\", padding=True, truncation=True, max_length=64)\n",
    "    inputs = {key: val.to(device) for key, val in inputs.items()}  # 将输入转移到 GPU/CPU\n",
    "\n",
    "    # 模型推断\n",
    "    with torch.no_grad():\n",
    "        outputs = model(**inputs)\n",
    "        logits = outputs.logits\n",
    "        predicted_class = torch.argmax(logits, dim=1).item()  # 获取预测类别\n",
    "        confidence = torch.softmax(logits, dim=1).max().item()  # 获取预测置信度\n",
    "\n",
    "    # 返回结果\n",
    "    return predicted_class, confidence\n",
    "\n",
    "# 测试样例\n",
    "text_pairs = [[\"枪\", \"筋膜枪\"], [\"刀\", \"餐刀\"], [\"炸弹\", \"气球\"],[\"枪\", \"鱼枪\"]]\n",
    "\n",
    "# 处理每一对输入文本\n",
    "results = []\n",
    "for pair in text_pairs:\n",
    "    pair_results = []\n",
    "    for text in pair:\n",
    "        predicted_class, confidence = predict(text)\n",
    "        pair_results.append({\n",
    "            \"text\": text,\n",
    "            \"predicted_class\": \"Safe\" if predicted_class == 0 else \"Unsafe\",\n",
    "            \"confidence\": f\"{confidence:.2f}\"\n",
    "        })\n",
    "    results.append(pair_results)\n",
    "\n",
    "# 并排打印测试结果\n",
    "print(f\"{'Text 1':<10} {'Class 1':<10} {'Conf 1':<10} | {'Text 2':<10} {'Class 2':<10} {'Conf 2':<10}\")\n",
    "print(\"=\" * 60)\n",
    "for pair in results:\n",
    "    text1, text2 = pair[0]['text'], pair[1]['text']\n",
    "    class1, class2 = pair[0]['predicted_class'], pair[1]['predicted_class']\n",
    "    conf1, conf2 = pair[0]['confidence'], pair[1]['confidence']\n",
    "    print(f\"{text1:<10} {class1:<10} {conf1:<10} | {text2:<10} {class2:<10} {conf2:<10}\")\n"
   ],
   "id": "b66777d64912ef6f",
   "outputs": [
    {
     "name": "stdout",
     "output_type": "stream",
     "text": [
      "Using device: cuda\n",
      "Text 1     Class 1    Conf 1     | Text 2     Class 2    Conf 2    \n",
      "============================================================\n",
      "枪          Unsafe     1.00       | 筋膜枪        Unsafe     1.00      \n",
      "刀          Unsafe     0.97       | 餐刀         Safe       0.83      \n",
      "炸弹         Unsafe     1.00       | 气球         Safe       0.86      \n",
      "枪          Unsafe     1.00       | 鱼枪         Safe       0.99      \n"
     ]
    }
   ],
   "execution_count": 31
  },
  {
   "metadata": {},
   "cell_type": "markdown",
   "source": [
    "总结，目前的模型是具有一定的泛化能力的，我并没有针对一些混淆数据集单独添加，但是模型任然能够处理一定量的混淆数据集。例如枪和鱼枪\n",
    "\n",
    "\n",
    "但是对于筋膜枪这个，模型百分百认定未不安全词汇，首先考虑我上诉词库中并没有对于筋膜类似数据的正例，这里考虑后期定期做增量训练或者丰富原本正例数据集。\n",
    "\n",
    "\n",
    "这里我的正例词库只有15万条左右，\n",
    "\n",
    "\n",
    "但是百度百科词条高达28586901。而对于腾讯这个危险词汇数据库，只有四万多条数据，数据相对不平衡，不过这也符合真实世界的数据分布。\n",
    "\n",
    "\n",
    "此外可以考虑对危险词汇数据集做数据增强，例如使用拼音或者谐音字替换·选取单个字或者词使用使用英文翻译，在词组中添加~，。等符号进行分割，对某些词进行简写，以及随机重组词语等等。\n",
    "\n",
    "\n",
    "再次基础上再结合大模型对数据集可以进行少量扩充，在实际落地的时候可能达到更好的效果。"
   ],
   "id": "d7e0df98cd7c111d"
  },
  {
   "metadata": {},
   "cell_type": "code",
   "outputs": [],
   "execution_count": null,
   "source": "",
   "id": "ed3073b9471ce6ed"
  }
 ],
 "metadata": {
  "kernelspec": {
   "display_name": "Python 3",
   "language": "python",
   "name": "python3"
  },
  "language_info": {
   "codemirror_mode": {
    "name": "ipython",
    "version": 2
   },
   "file_extension": ".py",
   "mimetype": "text/x-python",
   "name": "python",
   "nbconvert_exporter": "python",
   "pygments_lexer": "ipython2",
   "version": "2.7.6"
  }
 },
 "nbformat": 4,
 "nbformat_minor": 5
}
